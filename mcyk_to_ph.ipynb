{
  "cells": [
    {
      "cell_type": "code",
      "execution_count": 1,
      "metadata": {
        "id": "UgigneFjCVlv"
      },
      "outputs": [],
      "source": [
        "import pandas as pd\n",
        "import numpy as np\n",
        "import matplotlib.pyplot as plt\n",
        "import joblib\n",
        "from PIL import Image\n",
        "import cv2\n",
        "import joblib"
      ]
    },
    {
      "cell_type": "markdown",
      "metadata": {},
      "source": [
        "#감마보정"
      ]
    },
    {
      "cell_type": "code",
      "execution_count": 2,
      "metadata": {},
      "outputs": [],
      "source": [
        "def gamma_correction(image, gamma=1.0):\n",
        "    inv_gamma = 1/ gamma\n",
        "    correction_img = np.uint8(((image / 255) ** inv_gamma) * 255)\n",
        "    return correction_img"
      ]
    },
    {
      "cell_type": "markdown",
      "metadata": {
        "id": "KAUDq6oojq7j"
      },
      "source": [
        "#이미지 크롭 예제"
      ]
    },
    {
      "cell_type": "code",
      "execution_count": 3,
      "metadata": {
        "id": "VsG9LyEujtDK"
      },
      "outputs": [],
      "source": [
        "def process_image_with_mouse_callback(image_path):\n",
        "    # 초기화된 변수\n",
        "    src_quad = np.zeros((4, 2), dtype=np.int32)  # Array to store the clicked coordinates\n",
        "    count = 0  # Counter for clicked points\n",
        "    cropped_img = None\n",
        "\n",
        "    # Load the image\n",
        "    src = cv2.imread(image_path)\n",
        "    if src is None:\n",
        "        print(\"Image load failed!\")\n",
        "        return None\n",
        "\n",
        "    # Resize image while maintaining aspect ratio\n",
        "    target_width = 640\n",
        "    target_height = int((src.shape[0] * target_width) / src.shape[1])\n",
        "    resized_src = cv2.resize(src, (target_width, target_height))\n",
        "\n",
        "    # 마우스 콜백 함수 정의\n",
        "    def on_mouse(event, x, y, flags, param):\n",
        "        nonlocal count, src_quad, cropped_img  # 함수 내부에서 외부 변수를 사용하도록 설정\n",
        "\n",
        "        if event == cv2.EVENT_LBUTTONDOWN and count < 4:\n",
        "            # Store the clicked point in src_quad\n",
        "            src_quad[count] = [x, y]\n",
        "            count += 1\n",
        "\n",
        "            # Display a circle at the clicked point\n",
        "            temp_image = resized_src.copy()\n",
        "            for i in range(count):\n",
        "                cv2.circle(temp_image, (int(src_quad[i][0]), int(src_quad[i][1])), 5, (0, 0, 255), -1)\n",
        "\n",
        "            cv2.imshow(\"src\", temp_image)\n",
        "\n",
        "            # If 4 points are clicked, perform the cropping\n",
        "            if count == 4:\n",
        "                # Calculate bounding box (rectangle) for the selected points\n",
        "                x_min, y_min = np.min(src_quad, axis=0)\n",
        "                x_max, y_max = np.max(src_quad, axis=0)\n",
        "\n",
        "                # Crop the selected area\n",
        "                cropped_img = resized_src[y_min:y_max, x_min:x_max]\n",
        "\n",
        "                # Show the cropped image\n",
        "                cv2.imshow(\"cropped\", cropped_img)\n",
        "\n",
        "    # Create a window and set mouse callback\n",
        "    cv2.namedWindow(\"src\")\n",
        "    cv2.setMouseCallback(\"src\", on_mouse)\n",
        "\n",
        "    # Display resized image and wait for user to click points\n",
        "    cv2.imshow(\"src\", resized_src)\n",
        "    cv2.waitKey(0)\n",
        "    cv2.destroyAllWindows()\n",
        "\n",
        "    # Return the cropped image if available\n",
        "    return cropped_img\n",
        "\n",
        "# RGB to CMYK 변환 함수 (백분율로 출력)\n",
        "def rgb_to_cmyk(img):\n",
        "    bgr = img.astype(np.float64) / 255.0\n",
        "    k = 1 - np.max(bgr, axis=2)\n",
        "    mask = (1 - k) > 0\n",
        "    c = np.where(mask, (1 - bgr[..., 2] - k) / (1 - k), 0)\n",
        "    m = np.where(mask, (1 - bgr[..., 1] - k) / (1 - k), 0)\n",
        "    y = np.where(mask, (1 - bgr[..., 0] - k) / (1 - k), 0)\n",
        "    cmyk = (np.dstack((c, m, y, k)) * 100).astype(np.float64)\n",
        "    return cmyk"
      ]
    },
    {
      "cell_type": "markdown",
      "metadata": {},
      "source": [
        "##수정중(이미지 크롭 매개변수 주소 -> 변수)"
      ]
    },
    {
      "cell_type": "code",
      "execution_count": 4,
      "metadata": {},
      "outputs": [],
      "source": [
        "import numpy as np\n",
        "import cv2\n",
        "\n",
        "def process_image_with_mouse_callback_temp(image):\n",
        "    # 초기화된 변수\n",
        "    src_quad = np.zeros((4, 2), dtype=np.int32)  # Array to store the clicked coordinates\n",
        "    count = 0  # Counter for clicked points\n",
        "    cropped_img = None\n",
        "\n",
        "    # 이미지가 None인지 확인\n",
        "    if image is None:\n",
        "        print(\"Image load failed!\")\n",
        "        return None\n",
        "\n",
        "    # Resize image while maintaining aspect ratio\n",
        "    target_width = 640\n",
        "    target_height = int((image.shape[0] * target_width) / image.shape[1])\n",
        "    resized_src = cv2.resize(image, (target_width, target_height))\n",
        "\n",
        "    # 마우스 콜백 함수 정의\n",
        "    def on_mouse(event, x, y, flags, param):\n",
        "        nonlocal count, src_quad, cropped_img  # 함수 내부에서 외부 변수를 사용하도록 설정\n",
        "\n",
        "        if event == cv2.EVENT_LBUTTONDOWN and count < 4:\n",
        "            # Store the clicked point in src_quad\n",
        "            src_quad[count] = [x, y]\n",
        "            count += 1\n",
        "\n",
        "            # Display a circle at the clicked point\n",
        "            temp_image = resized_src.copy()\n",
        "            for i in range(count):\n",
        "                cv2.circle(temp_image, (int(src_quad[i][0]), int(src_quad[i][1])), 5, (0, 0, 255), -1)\n",
        "\n",
        "            cv2.imshow(\"src\", temp_image)\n",
        "\n",
        "            # If 4 points are clicked, perform the cropping\n",
        "            if count == 4:\n",
        "                # Calculate bounding box (rectangle) for the selected points\n",
        "                x_min, y_min = np.min(src_quad, axis=0)\n",
        "                x_max, y_max = np.max(src_quad, axis=0)\n",
        "\n",
        "                # Crop the selected area\n",
        "                cropped_img = resized_src[y_min:y_max, x_min:x_max]\n",
        "\n",
        "                # Show the cropped image\n",
        "                cv2.imshow(\"cropped\", cropped_img)\n",
        "\n",
        "    # Create a window and set mouse callback\n",
        "    cv2.namedWindow(\"src\")\n",
        "    cv2.setMouseCallback(\"src\", on_mouse)\n",
        "\n",
        "    # Display resized image and wait for user to click points\n",
        "    cv2.imshow(\"src\", resized_src)\n",
        "    cv2.waitKey(0)\n",
        "    cv2.destroyAllWindows()\n",
        "\n",
        "    # Return the cropped image if available\n",
        "    return cropped_img\n",
        "\n",
        "# RGB to CMYK 변환 함수 (백분율로 출력)\n",
        "def rgb_to_cmyk(img):\n",
        "    bgr = img.astype(np.float64) / 255.0\n",
        "    k = 1 - np.max(bgr, axis=2)\n",
        "    mask = (1 - k) > 0\n",
        "    c = np.where(mask, (1 - bgr[..., 2] - k) / (1 - k), 0)\n",
        "    m = np.where(mask, (1 - bgr[..., 1] - k) / (1 - k), 0)\n",
        "    y = np.where(mask, (1 - bgr[..., 0] - k) / (1 - k), 0)\n",
        "    cmyk = (np.dstack((c, m, y, k)) * 100).astype(np.float64)\n",
        "    return cmyk\n"
      ]
    },
    {
      "cell_type": "markdown",
      "metadata": {
        "id": "JreHV2NmDJyx"
      },
      "source": [
        "#데이터프레임"
      ]
    },
    {
      "cell_type": "code",
      "execution_count": 5,
      "metadata": {
        "colab": {
          "base_uri": "https://localhost:8080/",
          "height": 419
        },
        "id": "7iansquHDU3q",
        "outputId": "67830aaf-1130-45c8-f501-2aa96c1219bd"
      },
      "outputs": [
        {
          "data": {
            "text/html": [
              "<div>\n",
              "<style scoped>\n",
              "    .dataframe tbody tr th:only-of-type {\n",
              "        vertical-align: middle;\n",
              "    }\n",
              "\n",
              "    .dataframe tbody tr th {\n",
              "        vertical-align: top;\n",
              "    }\n",
              "\n",
              "    .dataframe thead th {\n",
              "        text-align: right;\n",
              "    }\n",
              "</style>\n",
              "<table border=\"1\" class=\"dataframe\">\n",
              "  <thead>\n",
              "    <tr style=\"text-align: right;\">\n",
              "      <th></th>\n",
              "      <th>pH</th>\n",
              "      <th>C</th>\n",
              "      <th>M</th>\n",
              "      <th>Y</th>\n",
              "      <th>K</th>\n",
              "    </tr>\n",
              "  </thead>\n",
              "  <tbody>\n",
              "    <tr>\n",
              "      <th>0</th>\n",
              "      <td>1.00</td>\n",
              "      <td>0.0000</td>\n",
              "      <td>69.0000</td>\n",
              "      <td>77.00</td>\n",
              "      <td>2.0000</td>\n",
              "    </tr>\n",
              "    <tr>\n",
              "      <th>1</th>\n",
              "      <td>1.01</td>\n",
              "      <td>0.0000</td>\n",
              "      <td>68.8400</td>\n",
              "      <td>76.97</td>\n",
              "      <td>2.0000</td>\n",
              "    </tr>\n",
              "    <tr>\n",
              "      <th>2</th>\n",
              "      <td>1.02</td>\n",
              "      <td>0.0000</td>\n",
              "      <td>68.6800</td>\n",
              "      <td>76.94</td>\n",
              "      <td>2.0000</td>\n",
              "    </tr>\n",
              "    <tr>\n",
              "      <th>3</th>\n",
              "      <td>1.03</td>\n",
              "      <td>0.0000</td>\n",
              "      <td>68.5200</td>\n",
              "      <td>76.91</td>\n",
              "      <td>2.0000</td>\n",
              "    </tr>\n",
              "    <tr>\n",
              "      <th>4</th>\n",
              "      <td>1.04</td>\n",
              "      <td>0.0000</td>\n",
              "      <td>68.3600</td>\n",
              "      <td>76.88</td>\n",
              "      <td>2.0000</td>\n",
              "    </tr>\n",
              "    <tr>\n",
              "      <th>...</th>\n",
              "      <td>...</td>\n",
              "      <td>...</td>\n",
              "      <td>...</td>\n",
              "      <td>...</td>\n",
              "      <td>...</td>\n",
              "    </tr>\n",
              "    <tr>\n",
              "      <th>996</th>\n",
              "      <td>10.96</td>\n",
              "      <td>13.5940</td>\n",
              "      <td>33.1972</td>\n",
              "      <td>0.00</td>\n",
              "      <td>51.0740</td>\n",
              "    </tr>\n",
              "    <tr>\n",
              "      <th>997</th>\n",
              "      <td>10.97</td>\n",
              "      <td>13.5955</td>\n",
              "      <td>33.2979</td>\n",
              "      <td>0.00</td>\n",
              "      <td>51.0505</td>\n",
              "    </tr>\n",
              "    <tr>\n",
              "      <th>998</th>\n",
              "      <td>10.98</td>\n",
              "      <td>13.5970</td>\n",
              "      <td>33.3986</td>\n",
              "      <td>0.00</td>\n",
              "      <td>51.0270</td>\n",
              "    </tr>\n",
              "    <tr>\n",
              "      <th>999</th>\n",
              "      <td>10.99</td>\n",
              "      <td>13.5985</td>\n",
              "      <td>33.4993</td>\n",
              "      <td>0.00</td>\n",
              "      <td>51.0035</td>\n",
              "    </tr>\n",
              "    <tr>\n",
              "      <th>1000</th>\n",
              "      <td>11.00</td>\n",
              "      <td>13.6000</td>\n",
              "      <td>33.6000</td>\n",
              "      <td>0.00</td>\n",
              "      <td>50.9800</td>\n",
              "    </tr>\n",
              "  </tbody>\n",
              "</table>\n",
              "<p>1001 rows × 5 columns</p>\n",
              "</div>"
            ],
            "text/plain": [
              "         pH        C        M      Y        K\n",
              "0      1.00   0.0000  69.0000  77.00   2.0000\n",
              "1      1.01   0.0000  68.8400  76.97   2.0000\n",
              "2      1.02   0.0000  68.6800  76.94   2.0000\n",
              "3      1.03   0.0000  68.5200  76.91   2.0000\n",
              "4      1.04   0.0000  68.3600  76.88   2.0000\n",
              "...     ...      ...      ...    ...      ...\n",
              "996   10.96  13.5940  33.1972   0.00  51.0740\n",
              "997   10.97  13.5955  33.2979   0.00  51.0505\n",
              "998   10.98  13.5970  33.3986   0.00  51.0270\n",
              "999   10.99  13.5985  33.4993   0.00  51.0035\n",
              "1000  11.00  13.6000  33.6000   0.00  50.9800\n",
              "\n",
              "[1001 rows x 5 columns]"
            ]
          },
          "execution_count": 5,
          "metadata": {},
          "output_type": "execute_result"
        }
      ],
      "source": [
        "df = pd.read_csv(\"/Users/ansejun/Desktop/Python3/Test/cmyk.csv\")  # 데이터프레임 링크\n",
        "df"
      ]
    },
    {
      "cell_type": "markdown",
      "metadata": {
        "id": "yLAPhvx6DbO_"
      },
      "source": [
        "#RGB to CMYK"
      ]
    },
    {
      "cell_type": "code",
      "execution_count": 6,
      "metadata": {
        "id": "f5uTLx2lfocf"
      },
      "outputs": [],
      "source": [
        "# RGB to CMYK 변환 함수 (백분율로 출력)\n",
        "def rgb_to_cmyk(img):\n",
        "    # BGR을 0~1 범위로 정규화\n",
        "    bgr = img.astype(np.float64) / 255.0\n",
        "\n",
        "    # K 채널 계산\n",
        "    k = 1 - np.max(bgr, axis=2)\n",
        "\n",
        "    # K가 1이 아닐 때만 CMY 값 계산\n",
        "    mask = (1 - k) > 0\n",
        "    c = np.where(mask, (1 - bgr[..., 2] - k) / (1 - k), 0)\n",
        "    m = np.where(mask, (1 - bgr[..., 1] - k) / (1 - k), 0)\n",
        "    y = np.where(mask, (1 - bgr[..., 0] - k) / (1 - k), 0)\n",
        "\n",
        "    # CMYK를 백분율로 변환 (0~100)\n",
        "    cmyk = (np.dstack((c, m, y, k)) * 100).astype(np.float64)\n",
        "    return cmyk"
      ]
    },
    {
      "cell_type": "code",
      "execution_count": 7,
      "metadata": {
        "id": "18vaW9_9Qv0w"
      },
      "outputs": [],
      "source": [
        "def measure_ph(img):\n",
        "    if img is None:\n",
        "        print(\"이미지를 열 수 없습니다. 경로를 확인하세요.\")\n",
        "        return None\n",
        "\n",
        "    # CMYK 변환 (0~100 백분율로 변환된 CMYK 이미지)\n",
        "    cmyk_image = rgb_to_cmyk(img)\n",
        "\n",
        "    # CMYK 값을 튜플 형태로 가져와 빈도수 계산\n",
        "    pixels = [tuple(pixel) for pixel in cmyk_image.reshape(-1, 4)]  # 각 픽셀을 CMYK 튜플로 변환\n",
        "\n",
        "    color_counts = {}\n",
        "    for pixel in pixels:\n",
        "        if pixel in color_counts:\n",
        "            color_counts[pixel] += 1\n",
        "        else:\n",
        "            color_counts[pixel] = 1\n",
        "\n",
        "    # 가장 많은 빈도수를 가진 색상 값 찾기\n",
        "    most_common_color = max(color_counts, key=color_counts.get)\n",
        "    print(\"가장 많은 픽셀의 CMYK 색상 값 (백분율):\", most_common_color)\n",
        "\n",
        "    # CMYK 색상값 반환\n",
        "    return most_common_color\n"
      ]
    },
    {
      "cell_type": "markdown",
      "metadata": {
        "id": "6Iab3MGKdq_I"
      },
      "source": [
        "#모델학습"
      ]
    },
    {
      "cell_type": "code",
      "execution_count": 15,
      "metadata": {},
      "outputs": [],
      "source": [
        "from sklearn.model_selection import train_test_split\n",
        "from sklearn.ensemble import RandomForestRegressor\n",
        "from sklearn.metrics import mean_squared_error, r2_score"
      ]
    },
    {
      "cell_type": "code",
      "execution_count": 14,
      "metadata": {
        "id": "61uF3-fSN8Tm"
      },
      "outputs": [],
      "source": [
        "X = df[['C', 'M', 'Y', 'K']]\n",
        "y = df['pH']"
      ]
    },
    {
      "cell_type": "code",
      "execution_count": 16,
      "metadata": {
        "id": "rQ_cCB9MOK4R"
      },
      "outputs": [],
      "source": [
        "X_train, X_test, y_train, y_test = train_test_split(X, y, test_size=0.2, random_state=42)"
      ]
    },
    {
      "cell_type": "code",
      "execution_count": 12,
      "metadata": {
        "colab": {
          "base_uri": "https://localhost:8080/",
          "height": 57
        },
        "id": "cIzeVmmdOMZd",
        "outputId": "3514e9a8-f6c9-4a25-f964-bc602477c815"
      },
      "outputs": [
        {
          "ename": "NameError",
          "evalue": "name 'RandomForestRegressor' is not defined",
          "output_type": "error",
          "traceback": [
            "\u001b[0;31m---------------------------------------------------------------------------\u001b[0m",
            "\u001b[0;31mNameError\u001b[0m                                 Traceback (most recent call last)",
            "Cell \u001b[0;32mIn[12], line 1\u001b[0m\n\u001b[0;32m----> 1\u001b[0m rf_model \u001b[38;5;241m=\u001b[39m \u001b[43mRandomForestRegressor\u001b[49m(n_estimators\u001b[38;5;241m=\u001b[39m\u001b[38;5;241m150\u001b[39m, random_state\u001b[38;5;241m=\u001b[39m\u001b[38;5;241m42\u001b[39m)\n\u001b[1;32m      2\u001b[0m \u001b[38;5;66;03m#rf_model.fit(X_train, y_train)\u001b[39;00m\n",
            "\u001b[0;31mNameError\u001b[0m: name 'RandomForestRegressor' is not defined"
          ]
        }
      ],
      "source": [
        "rf_model = RandomForestRegressor(n_estimators=150, random_state=42)\n",
        "rf_model.fit(X_train, y_train)"
      ]
    },
    {
      "cell_type": "markdown",
      "metadata": {},
      "source": [
        "#모델 저장"
      ]
    },
    {
      "cell_type": "code",
      "execution_count": null,
      "metadata": {},
      "outputs": [],
      "source": [
        "# 학습된 모델 저장\n",
        "joblib.dump(rf_model, 'random_forest_model.joblib')"
      ]
    },
    {
      "cell_type": "markdown",
      "metadata": {},
      "source": [
        "#모델 불러오기"
      ]
    },
    {
      "cell_type": "code",
      "execution_count": 17,
      "metadata": {},
      "outputs": [],
      "source": [
        "# 모델 불러오기\n",
        "rf_model = joblib.load('random_forest_model.joblib')\n"
      ]
    },
    {
      "cell_type": "code",
      "execution_count": 18,
      "metadata": {
        "colab": {
          "base_uri": "https://localhost:8080/"
        },
        "id": "iC3pKfYXOQ5L",
        "outputId": "a9c3e6e9-8827-4c56-aac3-69a0b2119909"
      },
      "outputs": [
        {
          "name": "stdout",
          "output_type": "stream",
          "text": [
            "평균 제곱 오차 (MSE): 2.6814704256490426e-05\n",
            "R² 점수: 0.9999967369572748\n"
          ]
        }
      ],
      "source": [
        "# 100개 : 2.9()\n",
        "# 150개 : 2.7(0.9)\n",
        "# 200개 : 2.9(0.9)\n",
        "y_pred = rf_model.predict(X_test)\n",
        "mse = mean_squared_error(y_test, y_pred)\n",
        "r2 = r2_score(y_test, y_pred)\n",
        "\n",
        "print(\"평균 제곱 오차 (MSE):\", mse)\n",
        "print(\"R² 점수:\", r2)"
      ]
    },
    {
      "cell_type": "code",
      "execution_count": 124,
      "metadata": {},
      "outputs": [
        {
          "name": "stdout",
          "output_type": "stream",
          "text": [
            "평균 제곱 오차 (MSE): 2.386695411828625e-05\n",
            "R² 점수: 0.9999970956647418\n"
          ]
        }
      ],
      "source": [
        "# 100개 : 2.9()\n",
        "# 150개 : 2.7(0.9)\n",
        "# 200개 : 2.9(0.9)\n",
        "y_pred = test_model.predict(X_test)\n",
        "mse = mean_squared_error(y_test, y_pred)\n",
        "r2 = r2_score(y_test, y_pred)\n",
        "\n",
        "print(\"평균 제곱 오차 (MSE):\", mse)\n",
        "print(\"R² 점수:\", r2)"
      ]
    },
    {
      "cell_type": "markdown",
      "metadata": {
        "id": "3spRCUhmP8fQ"
      },
      "source": [
        "#TEST"
      ]
    },
    {
      "cell_type": "code",
      "execution_count": null,
      "metadata": {
        "colab": {
          "base_uri": "https://localhost:8080/"
        },
        "collapsed": true,
        "id": "KXfkYGGFZ_rh",
        "outputId": "c79f8e4a-c1ff-4a2a-fc9f-e88ed8325359"
      },
      "outputs": [],
      "source": [
        "temp = rgb_to_cmyk(img)\n",
        "print(temp)"
      ]
    },
    {
      "cell_type": "code",
      "execution_count": null,
      "metadata": {
        "colab": {
          "base_uri": "https://localhost:8080/"
        },
        "id": "6MdcZMtBP8Ct",
        "outputId": "3a94a1a5-44ab-4a26-c172-1f9aa73347e1"
      },
      "outputs": [],
      "source": [
        "# 지정 CMYK값의 pH 계산\n",
        "new_data = [[106, 92, 190, 0]]\n",
        "\n",
        "predicted_label = rf_model.predict(new_data)\n",
        "\n",
        "print(\"예측된 label 값:\", predicted_label[0])"
      ]
    },
    {
      "cell_type": "code",
      "execution_count": 115,
      "metadata": {
        "colab": {
          "base_uri": "https://localhost:8080/"
        },
        "id": "2vrhtzEfVAVg",
        "outputId": "72bbc4df-31c0-4dc9-c69b-a0ba5051f49e"
      },
      "outputs": [
        {
          "name": "stdout",
          "output_type": "stream",
          "text": [
            "가장 많은 픽셀의 CMYK 색상 값 (백분율): (3.684210526315791, 0.0, 59.473684210526315, 25.49019607843137)\n",
            "예측된 label 값: 5.404333333333336\n"
          ]
        },
        {
          "name": "stderr",
          "output_type": "stream",
          "text": [
            "/Library/Frameworks/Python.framework/Versions/3.12/lib/python3.12/site-packages/sklearn/base.py:493: UserWarning: X does not have valid feature names, but RandomForestRegressor was fitted with feature names\n",
            "  warnings.warn(\n"
          ]
        }
      ],
      "source": [
        "# 이미지 CMYK값의 pH 계산\n",
        "# ph1, ph2, ph3, ph5\n",
        "img = cv2.imread('/Users/ansejun/Desktop/Python3/Test/ph5.png') # 샘플 이미지 주소\n",
        "\n",
        "# CMYK 색상 값 받아오기\n",
        "cmyk_value = measure_ph(img)\n",
        "if cmyk_value:\n",
        "    # 랜덤 포레스트 모델에 입력할 데이터 준비\n",
        "    new_data = [[cmyk_value[0], cmyk_value[1], cmyk_value[2], cmyk_value[3]]]\n",
        "\n",
        "    # 예측 수행\n",
        "    predicted_label = rf_model.predict(new_data)\n",
        "    print(\"예측된 label 값:\", predicted_label[0])"
      ]
    },
    {
      "cell_type": "code",
      "execution_count": null,
      "metadata": {},
      "outputs": [],
      "source": [
        "cropped_image = process_image_with_mouse_callback(\"/Users/ansejun/Desktop/Python3/Test/123.jpeg\")\n",
        "\n",
        "if cropped_image is not None:\n",
        "    cmyk_value = measure_ph(cropped_image)\n",
        "    if cmyk_value is not None:\n",
        "        # 랜덤 포레스트 모델에 입력할 데이터 준비\n",
        "        new_data = [cmyk_value[:4]]  # CMYK 값을 2D 배열로 포장하여 입력\n",
        "\n",
        "        # 예측 수행 (모델이 이미 학습된 상태여야 함)\n",
        "        predicted_label = rf_model.predict(new_data)\n",
        "        print(\"예측된 label 값:\", predicted_label[0])"
      ]
    },
    {
      "cell_type": "code",
      "execution_count": 116,
      "metadata": {},
      "outputs": [
        {
          "name": "stdout",
          "output_type": "stream",
          "text": [
            "가장 많은 픽셀의 CMYK 색상 값 (백분율): (3.589743589743577, 0.0, 56.41025641025642, 23.529411764705888)\n",
            "예측된 label 값: 5.4006\n"
          ]
        },
        {
          "name": "stderr",
          "output_type": "stream",
          "text": [
            "/Library/Frameworks/Python.framework/Versions/3.12/lib/python3.12/site-packages/sklearn/base.py:493: UserWarning: X does not have valid feature names, but RandomForestRegressor was fitted with feature names\n",
            "  warnings.warn(\n"
          ]
        }
      ],
      "source": [
        "row_img = cv2.imread('/Users/ansejun/Desktop/Python3/Test/ph5.png')\n",
        "img = gamma_correction(row_img, gamma=1.1)\n",
        "\n",
        "# CMYK 색상 값 받아오기\n",
        "cmyk_value = measure_ph(img)\n",
        "if cmyk_value:\n",
        "    # 랜덤 포레스트 모델에 입력할 데이터 준비\n",
        "    new_data = [[cmyk_value[0], cmyk_value[1], cmyk_value[2], cmyk_value[3]]]\n",
        "\n",
        "    # 예측 수행\n",
        "    predicted_label = rf_model.predict(new_data)\n",
        "    print(\"예측된 label 값:\", predicted_label[0])"
      ]
    },
    {
      "cell_type": "markdown",
      "metadata": {},
      "source": [
        "#보강학습 후 모델 테스트(test_random_forest_model)"
      ]
    },
    {
      "cell_type": "code",
      "execution_count": 117,
      "metadata": {},
      "outputs": [],
      "source": [
        "# 모델 불러오기\n",
        "test_model = joblib.load('test_random_forest_model.joblib')\n"
      ]
    },
    {
      "cell_type": "code",
      "execution_count": 153,
      "metadata": {},
      "outputs": [
        {
          "name": "stdout",
          "output_type": "stream",
          "text": [
            "가장 많은 픽셀의 CMYK 색상 값 (백분율): (0.0, 16.894977168949765, 61.18721461187215, 14.117647058823534)\n",
            "예측된 label 값: 4.352466666666671\n"
          ]
        },
        {
          "name": "stderr",
          "output_type": "stream",
          "text": [
            "/Library/Frameworks/Python.framework/Versions/3.12/lib/python3.12/site-packages/sklearn/base.py:493: UserWarning: X does not have valid feature names, but RandomForestRegressor was fitted with feature names\n",
            "  warnings.warn(\n"
          ]
        }
      ],
      "source": [
        "row_img = cv2.imread('/Users/ansejun/Desktop/Python3/Test/ph4.png')\n",
        "img = gamma_correction(row_img, gamma=1.1)\n",
        "\n",
        "# CMYK 색상 값 받아오기\n",
        "cmyk_value = measure_ph(img)\n",
        "if cmyk_value:\n",
        "    # 랜덤 포레스트 모델에 입력할 데이터 준비\n",
        "    new_data = [[cmyk_value[0], cmyk_value[1], cmyk_value[2], cmyk_value[3]]]\n",
        "\n",
        "    # 예측 수행\n",
        "    predicted_label = test_model.predict(new_data)\n",
        "    print(\"예측된 label 값:\", predicted_label[0])"
      ]
    }
  ],
  "metadata": {
    "colab": {
      "provenance": []
    },
    "kernelspec": {
      "display_name": "Python 3",
      "name": "python3"
    },
    "language_info": {
      "codemirror_mode": {
        "name": "ipython",
        "version": 3
      },
      "file_extension": ".py",
      "mimetype": "text/x-python",
      "name": "python",
      "nbconvert_exporter": "python",
      "pygments_lexer": "ipython3",
      "version": "3.12.1"
    }
  },
  "nbformat": 4,
  "nbformat_minor": 0
}
